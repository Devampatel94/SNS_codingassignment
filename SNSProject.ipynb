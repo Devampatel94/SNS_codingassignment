{
  "nbformat": 4,
  "nbformat_minor": 0,
  "metadata": {
    "colab": {
      "provenance": []
    },
    "kernelspec": {
      "name": "python3",
      "display_name": "Python 3"
    },
    "language_info": {
      "name": "python"
    }
  },
  "cells": [
    {
      "cell_type": "code",
      "source": [
        "import numpy as np\n",
        "import scipy.signal\n",
        "from google.colab import drive\n",
        "\n",
        "# Function to read input signal from file\n",
        "def read_signal(file_path):\n",
        "    with open(file_path, 'r') as file:\n",
        "        signal = [float(line.strip()) for line in file.readlines()]\n",
        "    return signal\n",
        "\n",
        "# Function to implement low-pass filter\n",
        "def low_pass_filter(signal, cutoff_freq, sampling_freq):\n",
        "    nyquist_freq = 0.5 * sampling_freq\n",
        "    norm_cutoff_freq = cutoff_freq / nyquist_freq\n",
        "    b, a = scipy.signal.butter(4, norm_cutoff_freq, btype='low')\n",
        "    filtered_signal = scipy.signal.lfilter(b, a, signal)\n",
        "    return filtered_signal\n",
        "\n",
        "# Function to implement high-pass filter\n",
        "def high_pass_filter(signal, cutoff_freq, sampling_freq):\n",
        "    nyquist_freq = 0.5 * sampling_freq\n",
        "    norm_cutoff_freq = cutoff_freq / nyquist_freq\n",
        "    b, a = scipy.signal.butter(4, norm_cutoff_freq, btype='high')\n",
        "    filtered_signal = scipy.signal.lfilter(b, a, signal)\n",
        "    return filtered_signal\n",
        "\n",
        "# Function to implement band-pass filter\n",
        "def band_pass_filter(signal, low_cutoff_freq, high_cutoff_freq, sampling_freq):\n",
        "    nyquist_freq = 0.5 * sampling_freq\n",
        "    norm_low_cutoff_freq = low_cutoff_freq / nyquist_freq\n",
        "    norm_high_cutoff_freq = high_cutoff_freq / nyquist_freq\n",
        "    b, a = scipy.signal.butter(4, [norm_low_cutoff_freq, norm_high_cutoff_freq], btype='band')\n",
        "    filtered_signal = scipy.signal.lfilter(b, a, signal)\n",
        "    return filtered_signal\n",
        "\n",
        "# Function to calculate correlation between two signals\n",
        "def calculate_correlation(signal1, signal2):\n",
        "    correlation = np.corrcoef(signal1, signal2)[0, 1]\n",
        "    return correlation\n",
        "\n",
        "# Mount Google Drive\n",
        "drive.mount('/content/drive')\n",
        "\n",
        "# File paths in your Google Drive\n",
        "input_signal_path = '/content/drive/MyDrive/Singals/INPUT-SIGNAL-X(t).txt'\n",
        "output_signal_path = '/content/drive/MyDrive/Singals/OUTPUT-SIGNAL-Y(t).txt'\n",
        "\n",
        "# Load input and output signals\n",
        "input_signal = read_signal(input_signal_path)\n",
        "output_signal = read_signal(output_signal_path)\n",
        "\n",
        "# Define the cutoff frequency and sampling frequency\n",
        "cutoff_freq = 1000  # Replace with the actual cutoff frequency in Hz\n",
        "sampling_freq = 5000  # Replace with the actual sampling frequency in Hz\n",
        "\n",
        "# Filter input signal using low-pass filter\n",
        "filtered_low_pass = low_pass_filter(input_signal, cutoff_freq, sampling_freq)\n",
        "\n",
        "low_cutoff_freq = 100\n",
        "high_cutoff_freq = 1000  # Replace with the actual high cutoff frequency in Hz\n",
        "\n",
        "# Filter input signal using high-pass filter\n",
        "filtered_high_pass = high_pass_filter(input_signal, cutoff_freq, sampling_freq)\n",
        "\n",
        "# Filter input signal using band-pass filter\n",
        "filtered_band_pass = band_pass_filter(input_signal, low_cutoff_freq, high_cutoff_freq, sampling_freq)\n",
        "\n",
        "# Calculate correlation between filtered signals and output signal\n",
        "correlation_low_pass = calculate_correlation(filtered_low_pass, output_signal)\n",
        "correlation_high_pass = calculate_correlation(filtered_high_pass, output_signal)\n",
        "correlation_band_pass = calculate_correlation(filtered_band_pass, output_signal)\n",
        "\n",
        "# Take absolute values of correlations\n",
        "correlation_low_pass = abs(correlation_low_pass)\n",
        "correlation_high_pass = abs(correlation_high_pass)\n",
        "correlation_band_pass = abs(correlation_band_pass)\n",
        "\n",
        "best_filter_array = [correlation_low_pass, correlation_high_pass, correlation_band_pass]\n",
        "best_filter = np.argmax(best_filter_array)\n",
        "\n",
        "# Print the result\n",
        "if best_filter == 0:\n",
        "    print(\"The best match is the Low Pass Filter.\")\n",
        "    print(\"Correlation is: \", best_filter_array[best_filter])\n",
        "elif best_filter == 1:\n",
        "    print(\"The best match is the High Pass Filter.\")\n",
        "    print(\"Correlation is: \", best_filter_array[best_filter])\n",
        "else:\n",
        "    print(\"The best match is the Band Pass Filter.\")\n",
        "    print(\"Correlation is: \", best_filter_array[best_filter])\n"
      ],
      "metadata": {
        "colab": {
          "base_uri": "https://localhost:8080/"
        },
        "id": "0SnfymeNLNRO",
        "outputId": "409dab3c-f80c-4a5e-dd0a-43f5bc24562c"
      },
      "execution_count": 47,
      "outputs": [
        {
          "output_type": "stream",
          "name": "stdout",
          "text": [
            "Drive already mounted at /content/drive; to attempt to forcibly remount, call drive.mount(\"/content/drive\", force_remount=True).\n",
            "The best match is the Low Pass Filter.\n",
            "Correlation is:  0.2375853190512612\n"
          ]
        }
      ]
    }
  ]
}